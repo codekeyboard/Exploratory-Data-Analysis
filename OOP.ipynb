{
  "nbformat": 4,
  "nbformat_minor": 0,
  "metadata": {
    "colab": {
      "provenance": []
    },
    "kernelspec": {
      "name": "python3",
      "display_name": "Python 3"
    },
    "language_info": {
      "name": "python"
    }
  },
  "cells": [
    {
      "cell_type": "code",
      "execution_count": 41,
      "metadata": {
        "id": "0IS6SGEro9Oh"
      },
      "outputs": [],
      "source": [
        "class Car:\n",
        "  def __init__(self,window , door, enginetype):\n",
        "    self.windows = window\n",
        "    self.doors = door\n",
        "    self.eniginetype= enginetype\n",
        "  def self_driving(self):\n",
        "    return \"This is a {} Car\".format(self.eniginetype)"
      ]
    },
    {
      "cell_type": "code",
      "source": [
        "car1 = Car(4,5,\"Petrol\")"
      ],
      "metadata": {
        "id": "nNMRXvz6pRxG"
      },
      "execution_count": 13,
      "outputs": []
    },
    {
      "cell_type": "code",
      "source": [
        "car1.self_driving()"
      ],
      "metadata": {
        "colab": {
          "base_uri": "https://localhost:8080/",
          "height": 35
        },
        "id": "ZlWqRSwRpZlW",
        "outputId": "a75b2b3c-12f1-43d1-bdb5-940fba375959"
      },
      "execution_count": 14,
      "outputs": [
        {
          "output_type": "execute_result",
          "data": {
            "text/plain": [
              "'This is a Petrol Car'"
            ],
            "application/vnd.google.colaboratory.intrinsic+json": {
              "type": "string"
            }
          },
          "metadata": {},
          "execution_count": 14
        }
      ]
    },
    {
      "cell_type": "code",
      "source": [
        "class Person:\n",
        "  def __init__(self,fname,lname):\n",
        "    self.firstname= fname\n",
        "    self.lastname = lname\n",
        "  def print_name(self):\n",
        "    print(self.firstname,self.lastname)"
      ],
      "metadata": {
        "id": "DfU7KZQsqPNl"
      },
      "execution_count": 15,
      "outputs": []
    },
    {
      "cell_type": "code",
      "source": [
        "class Student(Person):\n",
        "  def __init__(self,fname,lname,year):\n",
        "    super().__init__(fname,lname)\n",
        "    self.gradyear = year\n",
        "  def welcome(self):\n",
        "    print(\"Welcome \", self.firstname, self.lastname, \" to the class of \" , self.gradyear)"
      ],
      "metadata": {
        "id": "LFqOu3T3yo-Z"
      },
      "execution_count": 17,
      "outputs": []
    },
    {
      "cell_type": "code",
      "source": [
        "student1= Student(\"John\",\"player\",1989)"
      ],
      "metadata": {
        "id": "cv3FVNdTzNg8"
      },
      "execution_count": 18,
      "outputs": []
    },
    {
      "cell_type": "code",
      "source": [
        "student1.welcome()"
      ],
      "metadata": {
        "colab": {
          "base_uri": "https://localhost:8080/"
        },
        "id": "jx_8fE1NzalP",
        "outputId": "51b1527b-862a-4fe0-87dc-05ace36ec708"
      },
      "execution_count": 20,
      "outputs": [
        {
          "output_type": "stream",
          "name": "stdout",
          "text": [
            "Welcome  John player  to the class of  1989\n"
          ]
        }
      ]
    },
    {
      "cell_type": "code",
      "source": [],
      "metadata": {
        "id": "nxxv_jBUzcgY"
      },
      "execution_count": null,
      "outputs": []
    },
    {
      "cell_type": "markdown",
      "source": [
        "# Encapsulation\n",
        "---\n",
        "Private attribute is ristricted\n",
        "--\n",
        "Protcted attribute is not restrieted but can use in class and in subclasses not fully restricted"
      ],
      "metadata": {
        "id": "5oIbGIN31UOf"
      }
    },
    {
      "cell_type": "code",
      "source": [
        "class Bank:\n",
        "  def __init__(self,acountholder,balance):\n",
        "    self.accountholder = acountholder\n",
        "    self._balance = balance #protected by _ and private by __\n",
        "  def get_balance(self):\n",
        "    return self._balance\n",
        "  def set_balance(self,new_balance):\n",
        "    self._balance = new_balance\n",
        "\n"
      ],
      "metadata": {
        "id": "c-Ga3pEV1Vi-"
      },
      "execution_count": 42,
      "outputs": []
    },
    {
      "cell_type": "code",
      "source": [
        "account1 = Bank(\"Siam\", 83284)"
      ],
      "metadata": {
        "id": "3f8-VzkJ1vTB"
      },
      "execution_count": 43,
      "outputs": []
    },
    {
      "cell_type": "code",
      "source": [
        "account1.get_balance()"
      ],
      "metadata": {
        "colab": {
          "base_uri": "https://localhost:8080/"
        },
        "id": "skXweG262Jpz",
        "outputId": "cced353b-ae33-4025-b45b-c3448de02027"
      },
      "execution_count": 44,
      "outputs": [
        {
          "output_type": "execute_result",
          "data": {
            "text/plain": [
              "83284"
            ]
          },
          "metadata": {},
          "execution_count": 44
        }
      ]
    },
    {
      "cell_type": "code",
      "source": [
        "account1.set_balance(199329)"
      ],
      "metadata": {
        "id": "s0L03ZEz2OLz"
      },
      "execution_count": 45,
      "outputs": []
    },
    {
      "cell_type": "code",
      "source": [
        "account1.get_balance()"
      ],
      "metadata": {
        "colab": {
          "base_uri": "https://localhost:8080/"
        },
        "id": "YuJUyIpI2VGs",
        "outputId": "19808487-8f08-4d0d-d380-87180644d897"
      },
      "execution_count": 34,
      "outputs": [
        {
          "output_type": "execute_result",
          "data": {
            "text/plain": [
              "199329"
            ]
          },
          "metadata": {},
          "execution_count": 34
        }
      ]
    },
    {
      "cell_type": "code",
      "source": [
        "account1._balance"
      ],
      "metadata": {
        "colab": {
          "base_uri": "https://localhost:8080/"
        },
        "id": "EM82q38S2gvp",
        "outputId": "34355bbd-0efa-41b2-a07c-5758d28cec7f"
      },
      "execution_count": 36,
      "outputs": [
        {
          "output_type": "execute_result",
          "data": {
            "text/plain": [
              "199329"
            ]
          },
          "metadata": {},
          "execution_count": 36
        }
      ]
    },
    {
      "cell_type": "code",
      "source": [
        "class Example:\n",
        "    def __init__(self,st):\n",
        "        self.__private_var = st\n",
        "\n",
        "# Create an instance of the class\n",
        "obj = Example(\"ewur\")\n",
        "\n",
        "# Attempt to access the private variable directly\n",
        "obj.__private_var\n"
      ],
      "metadata": {
        "colab": {
          "base_uri": "https://localhost:8080/",
          "height": 176
        },
        "id": "zFJN_TOH3C3q",
        "outputId": "ae97f64d-d850-457a-e7c6-2202d72d034a"
      },
      "execution_count": 40,
      "outputs": [
        {
          "output_type": "error",
          "ename": "AttributeError",
          "evalue": "'Example' object has no attribute '__private_var'",
          "traceback": [
            "\u001b[0;31m---------------------------------------------------------------------------\u001b[0m",
            "\u001b[0;31mAttributeError\u001b[0m                            Traceback (most recent call last)",
            "\u001b[0;32m<ipython-input-40-ce1807ac262e>\u001b[0m in \u001b[0;36m<cell line: 9>\u001b[0;34m()\u001b[0m\n\u001b[1;32m      7\u001b[0m \u001b[0;34m\u001b[0m\u001b[0m\n\u001b[1;32m      8\u001b[0m \u001b[0;31m# Attempt to access the private variable directly\u001b[0m\u001b[0;34m\u001b[0m\u001b[0;34m\u001b[0m\u001b[0m\n\u001b[0;32m----> 9\u001b[0;31m \u001b[0mobj\u001b[0m\u001b[0;34m.\u001b[0m\u001b[0m__private_var\u001b[0m\u001b[0;34m\u001b[0m\u001b[0;34m\u001b[0m\u001b[0m\n\u001b[0m",
            "\u001b[0;31mAttributeError\u001b[0m: 'Example' object has no attribute '__private_var'"
          ]
        }
      ]
    },
    {
      "cell_type": "markdown",
      "source": [
        "\n",
        "# Polymorphism\n",
        "---\n",
        "Overriding\n",
        "--\n",
        "In method overriding, a subclass provides a specific implementation of a method that is already defined in its superclass. This allows the subclass to change the behavior of the method.\n",
        "\n",
        "Example: Method Overriding\n",
        "python\n",
        "Copy code\n",
        "\n"
      ],
      "metadata": {
        "id": "x3GTZT3K6eNX"
      }
    },
    {
      "cell_type": "code",
      "source": [
        "class Animal:\n",
        "  def speak(self):\n",
        "    print(\"Animal speaks\")\n",
        "class Dog(Animal):\n",
        "  def speak(self):\n",
        "    print(\"Dog barks\")\n",
        "class Cat(Animal):\n",
        "  def speak(self):\n",
        "    print(\"Cat meows\")"
      ],
      "metadata": {
        "id": "QDM4eMiF3LW7"
      },
      "execution_count": 46,
      "outputs": []
    },
    {
      "cell_type": "code",
      "source": [
        "dog = Dog()\n",
        "cat = Cat()\n"
      ],
      "metadata": {
        "id": "HKkNQp0m7HZ4"
      },
      "execution_count": 47,
      "outputs": []
    },
    {
      "cell_type": "code",
      "source": [
        "dog.speak()"
      ],
      "metadata": {
        "colab": {
          "base_uri": "https://localhost:8080/"
        },
        "id": "MrZuQ2_X7OVo",
        "outputId": "bc3bb58a-b355-41ab-a80a-4de02ea20905"
      },
      "execution_count": 48,
      "outputs": [
        {
          "output_type": "stream",
          "name": "stdout",
          "text": [
            "Dog barks\n"
          ]
        }
      ]
    },
    {
      "cell_type": "code",
      "source": [
        "cat.speak()"
      ],
      "metadata": {
        "colab": {
          "base_uri": "https://localhost:8080/"
        },
        "id": "Qx3rC2xt7QPC",
        "outputId": "0a0e9b79-98e4-4dce-949b-30e4f21775d6"
      },
      "execution_count": 49,
      "outputs": [
        {
          "output_type": "stream",
          "name": "stdout",
          "text": [
            "Cat meows\n"
          ]
        }
      ]
    },
    {
      "cell_type": "code",
      "source": [],
      "metadata": {
        "id": "TexaZjNF7Rc_"
      },
      "execution_count": null,
      "outputs": []
    },
    {
      "cell_type": "markdown",
      "source": [
        "# Duck Typing (Python-Specific Polymorphism)\n",
        "\n",
        "---\n",
        "In Python, polymorphism is often based on duck typing, which is a concept where the type of an object is determined by its behavior rather than its class. In other words, if an object behaves like a particular type (e.g., having a certain method), it can be used as that type, regardless of its actual class."
      ],
      "metadata": {
        "id": "vzLZUnIm7h7n"
      }
    },
    {
      "cell_type": "code",
      "source": [
        "class Bird:\n",
        "  def fly(self):\n",
        "    print(\"Birds can fly\")\n",
        "class airplane:\n",
        "  def fly(self):\n",
        "    print(\"Airplane can fly\")\n",
        "def make_it_fly(obj):\n",
        "  obj.fly()"
      ],
      "metadata": {
        "id": "98X-joN47i_o"
      },
      "execution_count": 59,
      "outputs": []
    },
    {
      "cell_type": "code",
      "source": [
        "bird = Bird()\n",
        "airplane1= airplane()"
      ],
      "metadata": {
        "id": "cL_IOLod7_2Z"
      },
      "execution_count": 60,
      "outputs": []
    },
    {
      "cell_type": "code",
      "source": [
        "print(make_it_fly(bird))"
      ],
      "metadata": {
        "colab": {
          "base_uri": "https://localhost:8080/"
        },
        "id": "09NyvHzo8CqE",
        "outputId": "ad8eb58a-c132-4fb6-892a-b0dd78d53531"
      },
      "execution_count": 61,
      "outputs": [
        {
          "output_type": "stream",
          "name": "stdout",
          "text": [
            "Birds can fly\n",
            "None\n"
          ]
        }
      ]
    },
    {
      "cell_type": "code",
      "source": [
        "print(make_it_fly(airplane1))"
      ],
      "metadata": {
        "colab": {
          "base_uri": "https://localhost:8080/"
        },
        "id": "btkM51iK8M_3",
        "outputId": "c9eab1df-2c7a-44da-ac3f-e4889a40e1cc"
      },
      "execution_count": 63,
      "outputs": [
        {
          "output_type": "stream",
          "name": "stdout",
          "text": [
            "Airplane can fly\n",
            "None\n"
          ]
        }
      ]
    },
    {
      "cell_type": "markdown",
      "source": [
        "# Abstraction abstract the functions for simplicity"
      ],
      "metadata": {
        "id": "Qt3W3Fd99wpG"
      }
    },
    {
      "cell_type": "code",
      "source": [
        "from abc import ABC, abstractmethod\n",
        "\n",
        "# Abstract Base Class for Vehicles\n",
        "class Vehicle(ABC):\n",
        "\n",
        "    def __init__(self, make, model, year):\n",
        "        self.make = make\n",
        "        self.model = model\n",
        "        self.year = year\n",
        "\n",
        "    @abstractmethod\n",
        "    def calculate_rental_price(self, days_rented):\n",
        "        \"\"\"Method to calculate rental price (abstract)\"\"\"\n",
        "        pass\n",
        "\n",
        "    @abstractmethod\n",
        "    def maintenance_cost(self):\n",
        "        \"\"\"Method to calculate maintenance cost (abstract)\"\"\"\n",
        "        pass\n",
        "\n",
        "    def display_info(self):\n",
        "        \"\"\"Non-abstract method to display general vehicle info\"\"\"\n",
        "        return f\"{self.year} {self.make} {self.model}\"\n",
        "\n",
        "# Subclass 1: Car\n",
        "class Car(Vehicle):\n",
        "\n",
        "    def __init__(self, make, model, year, car_type):\n",
        "        super().__init__(make, model, year)\n",
        "        self.car_type = car_type  # Additional attribute specific to Car\n",
        "\n",
        "    def calculate_rental_price(self, days_rented):\n",
        "        \"\"\"Car rental price is based on daily rental rate\"\"\"\n",
        "        daily_rate = 30 if self.car_type == 'Standard' else 50  # Standard vs Luxury\n",
        "        return daily_rate * days_rented\n",
        "\n",
        "    def maintenance_cost(self):\n",
        "        \"\"\"Cars have fixed monthly maintenance cost\"\"\"\n",
        "        return 100  # fixed cost for all cars\n",
        "\n",
        "# Subclass 2: Bike\n",
        "class Bike(Vehicle):\n",
        "\n",
        "    def __init__(self, make, model, year, bike_type):\n",
        "        super().__init__(make, model, year)\n",
        "        self.bike_type = bike_type  # Additional attribute specific to Bike\n",
        "\n",
        "    def calculate_rental_price(self, days_rented):\n",
        "        \"\"\"Bike rental price is based on daily rental rate\"\"\"\n",
        "        daily_rate = 10 if self.bike_type == 'Mountain' else 15  # Mountain vs Road bike\n",
        "        return daily_rate * days_rented\n",
        "\n",
        "    def maintenance_cost(self):\n",
        "        \"\"\"Bikes have lower maintenance cost\"\"\"\n",
        "        return 50  # fixed cost for all bikes\n",
        "\n",
        "# Subclass 3: Truck\n",
        "class Truck(Vehicle):\n",
        "\n",
        "    def __init__(self, make, model, year, load_capacity):\n",
        "        super().__init__(make, model, year)\n",
        "        self.load_capacity = load_capacity  # Additional attribute specific to Truck\n",
        "\n",
        "    def calculate_rental_price(self, days_rented):\n",
        "        \"\"\"Truck rental price is based on weight capacity\"\"\"\n",
        "        base_rate = 80\n",
        "        capacity_multiplier = 1 + (self.load_capacity / 1000)  # Increment based on load capacity\n",
        "        return base_rate * capacity_multiplier * days_rented\n",
        "\n",
        "    def maintenance_cost(self):\n",
        "        \"\"\"Trucks have higher maintenance costs due to their size and weight\"\"\"\n",
        "        return 200  # fixed cost for all trucks\n",
        "\n",
        "# Create instances of different vehicles\n",
        "car = Car(\"Toyota\", \"Camry\", 2020, \"Luxury\")\n",
        "bike = Bike(\"Yamaha\", \"MT-07\", 2022, \"Mountain\")\n",
        "truck = Truck(\"Ford\", \"F-150\", 2021, 1500)\n",
        "\n",
        "# Use the objects\n",
        "vehicles = [car, bike, truck]\n",
        "\n",
        "for vehicle in vehicles:\n",
        "    print(vehicle.display_info())  # Show basic vehicle info\n",
        "    print(f\"Rental Price for 5 days: ${vehicle.calculate_rental_price(5)}\")\n",
        "    print(f\"Maintenance Cost: ${vehicle.maintenance_cost()}\")\n",
        "    print(\"-\" * 40)\n"
      ],
      "metadata": {
        "colab": {
          "base_uri": "https://localhost:8080/"
        },
        "id": "LGQDHOPR8SxC",
        "outputId": "ca512793-24f7-4440-cb95-c61219f9ece9"
      },
      "execution_count": 64,
      "outputs": [
        {
          "output_type": "stream",
          "name": "stdout",
          "text": [
            "2020 Toyota Camry\n",
            "Rental Price for 5 days: $250\n",
            "Maintenance Cost: $100\n",
            "----------------------------------------\n",
            "2022 Yamaha MT-07\n",
            "Rental Price for 5 days: $50\n",
            "Maintenance Cost: $50\n",
            "----------------------------------------\n",
            "2021 Ford F-150\n",
            "Rental Price for 5 days: $1000.0\n",
            "Maintenance Cost: $200\n",
            "----------------------------------------\n"
          ]
        }
      ]
    },
    {
      "cell_type": "code",
      "source": [],
      "metadata": {
        "id": "ix2sFTbg9vTt"
      },
      "execution_count": null,
      "outputs": []
    }
  ]
}